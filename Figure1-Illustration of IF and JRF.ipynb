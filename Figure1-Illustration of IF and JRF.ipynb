{
 "cells": [
  {
   "cell_type": "code",
   "execution_count": 1,
   "metadata": {},
   "outputs": [],
   "source": [
    "%matplotlib inline"
   ]
  },
  {
   "cell_type": "code",
   "execution_count": 208,
   "metadata": {},
   "outputs": [
    {
     "data": {
      "image/png": "[encoded data removed]",
      "text/plain": [
       "<Figure size 432x288 with 1 Axes>"
      ]
     },
     "metadata": {
      "needs_background": "light"
     },
     "output_type": "display_data"
    }
   ],
   "source": [
    "import numpy as np\n",
    "import matplotlib.pyplot as plt\n",
    "from matplotlib.patches import Polygon\n",
    "import pandas as pd\n",
    "\n",
    "\n",
    "data = pd.read_excel(r'example-MS.xlsx')\n",
    "x = list(range(0,1000,100))\n",
    "y1 = [data.IF[i] for i in range(0,1000,100)]\n",
    "y2 = [data.JRF[i] for i in range(0,1000,100)]\n",
    "\n",
    "a, b = 1, 700  # integral limits\n",
    "\n",
    "fig, ax = plt.subplots()\n",
    "plt.plot(x, y1, 'tomato', linewidth=2,label= '${IF(k)_y^l}$')\n",
    "plt.plot(x, y2, 'dodgerblue', linewidth=2, ls='-',alpha=0.5,label= '${JRF(k)_y^l}$')\n",
    "plt.ylim(ymin=0)\n",
    "\n",
    "# Make the shaded region\n",
    "verts = [(a, 0), *zip(x[:-2], y1[:-2]), (b, 0)]\n",
    "poly = Polygon(verts, facecolor='0.9', edgecolor='0.5')\n",
    "ax.add_patch(poly)\n",
    "\n",
    "# Add three dashlines\n",
    "plt.axvline(x= 700, ymax=0.65, ls='--',c='black',alpha=0.9)\n",
    "plt.axvline(x= 1, ymax=0.65, ls='--',c='black',alpha=0.9)\n",
    "plt.axhline(xmin =0.05, xmax= 0.75, y=y2[7], ls='--',c='black',alpha=0.9)\n",
    "\n",
    "\n",
    "\n",
    "plt.figtext(0.9, 0.05, '$k$')\n",
    "plt.figtext(0.1, 0.9, '$y$')\n",
    "\n",
    "ax.spines['right'].set_visible(False)\n",
    "ax.spines['top'].set_visible(False)\n",
    "ax.xaxis.set_ticks_position('bottom')\n",
    "\n",
    "ax.set_xticks((a, b))\n",
    "ax.set_xticklabels(('$1$', '$b$'))\n",
    "ax.set_yticks([])\n",
    "plt.legend(loc=2,ncol=2)\n",
    "\n",
    "# add two ponits and texts\n",
    "plt.plot(700,y1[7],marker='.',color = 'tomato')\n",
    "plt.plot(700,y2[7],marker='.',color = 'dodgerblue')\n",
    "(dd, dl, r, dr, dp)=(1, 15, 0, -15, 5)\n",
    "ax.text(700, y1[7], \"($b$, $IF(b)_y^l$)\", withdash=True,\n",
    "                dashdirection=dd,\n",
    "                dashlength=dl,\n",
    "                rotation=r,\n",
    "                dashrotation=dr,\n",
    "                dashpush=dp,\n",
    "                )\n",
    "\n",
    "ax.text(700, y2[7], \"($b$, $JRF(b)_y^l$)\", withdash=True,\n",
    "                dashdirection=dd,\n",
    "                dashlength=dl,\n",
    "                rotation=r,\n",
    "                dashrotation=dr,\n",
    "                dashpush=dp,\n",
    "                )\n",
    "\n",
    "# def demo_con_style(ax, connectionstyle):\n",
    "#     x1, y1 = 700, 0\n",
    "#     x2, y2 = 700, 2.8142\n",
    "\n",
    "#     ax.annotate(\"\",\n",
    "#                 xy=(x1, y1), xycoords='data',\n",
    "#                 xytext=(x2, y2), textcoords='data',\n",
    "#                 arrowprops=dict(arrowstyle=\"-\", color=\"black\",\n",
    "#                                 shrinkA=5, shrinkB=5,\n",
    "#                                 patchA=None, patchB=None,\n",
    "#                                 connectionstyle=connectionstyle,\n",
    "#                                 ),\n",
    "#                 )\n",
    "# demo_con_style(ax, \"arc,angleA=-40,angleB=40,armA=20,armB=20,rad=5\")\n",
    "plt.text(830, 1.3, r\"$JRF(b)_y^l$\",\n",
    "         horizontalalignment='center')\n",
    "\n",
    "# plt.savefig('test.pdf',dpi=600)\n",
    "plt.show()"
   ]
  },
  {
   "cell_type": "code",
   "execution_count": null,
   "metadata": {},
   "outputs": [],
   "source": []
  },
  {
   "cell_type": "code",
   "execution_count": null,
   "metadata": {},
   "outputs": [],
   "source": []
  }
 ],
 "metadata": {
  "kernelspec": {
   "display_name": "Python 3",
   "language": "python",
   "name": "python3"
  },
  "language_info": {
   "codemirror_mode": {
    "name": "ipython",
    "version": 3
   },
   "file_extension": ".py",
   "mimetype": "text/x-python",
   "name": "python",
   "nbconvert_exporter": "python",
   "pygments_lexer": "ipython3",
   "version": "3.7.3"
  }
 },
 "nbformat": 4,
 "nbformat_minor": 2
}
