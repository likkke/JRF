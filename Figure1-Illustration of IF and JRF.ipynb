{
 "cells": [
  {
   "cell_type": "code",
   "execution_count": 1,
   "metadata": {},
   "outputs": [],
   "source": [
    "%matplotlib inline"
   ]
  },
  {
   "cell_type": "code",
   "execution_count": 45,
   "metadata": {},
   "outputs": [
    {
     "data": {
      "image/png": "[encoded data removed]",
      "text/plain": [
       "<Figure size 342x300 with 1 Axes>"
      ]
     },
     "metadata": {
      "needs_background": "light"
     },
     "output_type": "display_data"
    }
   ],
   "source": [
    "import numpy as np\n",
    "import matplotlib.pyplot as plt\n",
    "from matplotlib.patches import Polygon\n",
    "import pandas as pd\n",
    "\n",
    "\n",
    "data = pd.read_excel(r'example-MS.xlsx')\n",
    "x = list(range(0,1000,100))\n",
    "y1 = [data.IF[i] for i in range(0,1000,100)]\n",
    "y2 = [data.JRF[i] for i in range(0,1000,100)]\n",
    "\n",
    "a, b = 1, 700  # integral limits\n",
    "\n",
    "fig,ax=plt.subplots(1,1, figsize=(3.42,3),dpi=100)\n",
    "plt.plot(x, y1, 'tomato', linewidth=2,label= '${IF(k)_y^l}$')\n",
    "plt.plot(x, y2, 'dodgerblue', linewidth=2, ls='-',alpha=0.5,label= '${JRF(k)_y^l}$')\n",
    "plt.xlim(-50,1100)\n",
    "plt.ylim(0,5.5)\n",
    "\n",
    "# Make the shaded region\n",
    "verts = [(a, 0), *zip(x[:-2], y1[:-2]), (b, 0)]\n",
    "poly = Polygon(verts, facecolor='0.9', edgecolor='0.5')\n",
    "ax.add_patch(poly)\n",
    "\n",
    "# Add three dashlines\n",
    "plt.axvline(x= 700, ymax=0.515, ls='--',c='black',alpha=0.9)\n",
    "plt.axvline(x= 1, ymax=0.515, ls='--',c='black',alpha=0.9)\n",
    "plt.axhline(xmin =0.05, xmax= 0.65, y=y2[7], ls='--',c='black',alpha=0.9)\n",
    "\n",
    "\n",
    "\n",
    "plt.figtext(0.9, 0.05, '$k$')\n",
    "plt.figtext(0.1, 0.9, '$y$')\n",
    "\n",
    "ax.spines['right'].set_visible(False)\n",
    "ax.spines['top'].set_visible(False)\n",
    "ax.xaxis.set_ticks_position('bottom')\n",
    "\n",
    "ax.set_xticks((a, b))\n",
    "ax.set_xticklabels(('$1$', '$b$'))\n",
    "ax.set_yticks([])\n",
    "plt.legend(loc=2,ncol=2)\n",
    "\n",
    "# add two ponits and texts\n",
    "plt.plot(700,y1[7],marker='.',color = 'tomato')\n",
    "plt.plot(700,y2[7],marker='.',color = 'dodgerblue')\n",
    "\n",
    "\n",
    "ax.annotate('($b$, $IF(b)_y^l$)',\n",
    "            xy=(700, y1[7]), xycoords='data',\n",
    "            xytext=(-80, 6), textcoords='offset points',\n",
    "            arrowprops=dict(arrowstyle=\"->\"))\n",
    "\n",
    "\n",
    "ax.annotate('($b$, $JRF(b)_y^l$)',\n",
    "            xy=(700, y2[7]), xycoords='data',\n",
    "            xytext=(-120, 20), textcoords='offset points',\n",
    "            arrowprops=dict(arrowstyle=\"->\"))\n",
    "\n",
    "plt.text(900, 1.3, r\"$JRF(b)_y^l$\",\n",
    "         horizontalalignment='center')\n",
    "\n",
    "plt.savefig('Figure1-Illustration of IF and JRF.pdf')\n",
    "plt.show()"
   ]
  },
  {
   "cell_type": "code",
   "execution_count": null,
   "metadata": {},
   "outputs": [],
   "source": []
  }
 ],
 "metadata": {
  "kernelspec": {
   "display_name": "Python 3",
   "language": "python",
   "name": "python3"
  },
  "language_info": {
   "codemirror_mode": {
    "name": "ipython",
    "version": 3
   },
   "file_extension": ".py",
   "mimetype": "text/x-python",
   "name": "python",
   "nbconvert_exporter": "python",
   "pygments_lexer": "ipython3",
   "version": "3.7.3"
  }
 },
 "nbformat": 4,
 "nbformat_minor": 2
}
